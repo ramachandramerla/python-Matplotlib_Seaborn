{
 "cells": [
  {
   "cell_type": "code",
   "execution_count": 6,
   "metadata": {},
   "outputs": [],
   "source": [
    "#import the basic libraries\n",
    "import pandas as pd\n",
    "import numpy as np\n",
    "import matplotlib.pyplot as plt\n",
    "%matplotlib inline"
   ]
  },
  {
   "cell_type": "code",
   "execution_count": 7,
   "metadata": {},
   "outputs": [],
   "source": [
    "#import the necessary the libraries for Drawing of the Maps\n",
    "#import plotly.plotly as py #depricated \n",
    "\n",
    "import plotly.graph_objs as go "
   ]
  },
  {
   "cell_type": "code",
   "execution_count": 8,
   "metadata": {},
   "outputs": [
    {
     "name": "stdout",
     "output_type": "stream",
     "text": [
      "5.9.0\n"
     ]
    }
   ],
   "source": [
    "#check the version installation\n",
    "from plotly import __version__\n",
    "print(__version__)"
   ]
  },
  {
   "cell_type": "code",
   "execution_count": 9,
   "metadata": {},
   "outputs": [],
   "source": [
    "#get the necessary module and run it\n",
    "import chart_studio.plotly as py "
   ]
  },
  {
   "cell_type": "code",
   "execution_count": 10,
   "metadata": {},
   "outputs": [],
   "source": [
    "import cufflinks as cf"
   ]
  },
  {
   "cell_type": "code",
   "execution_count": 11,
   "metadata": {},
   "outputs": [],
   "source": [
    "from plotly.offline import download_plotlyjs, init_notebook_mode, plot, iplot"
   ]
  },
  {
   "cell_type": "code",
   "execution_count": 12,
   "metadata": {},
   "outputs": [
    {
     "data": {
      "text/html": [
       "        <script type=\"text/javascript\">\n",
       "        window.PlotlyConfig = {MathJaxConfig: 'local'};\n",
       "        if (window.MathJax && window.MathJax.Hub && window.MathJax.Hub.Config) {window.MathJax.Hub.Config({SVG: {font: \"STIX-Web\"}});}\n",
       "        if (typeof require !== 'undefined') {\n",
       "        require.undef(\"plotly\");\n",
       "        requirejs.config({\n",
       "            paths: {\n",
       "                'plotly': ['https://cdn.plot.ly/plotly-2.12.1.min']\n",
       "            }\n",
       "        });\n",
       "        require(['plotly'], function(Plotly) {\n",
       "            window._Plotly = Plotly;\n",
       "        });\n",
       "        }\n",
       "        </script>\n",
       "        "
      ]
     },
     "metadata": {},
     "output_type": "display_data"
    }
   ],
   "source": [
    "init_notebook_mode(connected=True)"
   ]
  },
  {
   "cell_type": "code",
   "execution_count": 13,
   "metadata": {},
   "outputs": [
    {
     "data": {
      "text/html": [
       "        <script type=\"text/javascript\">\n",
       "        window.PlotlyConfig = {MathJaxConfig: 'local'};\n",
       "        if (window.MathJax && window.MathJax.Hub && window.MathJax.Hub.Config) {window.MathJax.Hub.Config({SVG: {font: \"STIX-Web\"}});}\n",
       "        if (typeof require !== 'undefined') {\n",
       "        require.undef(\"plotly\");\n",
       "        requirejs.config({\n",
       "            paths: {\n",
       "                'plotly': ['https://cdn.plot.ly/plotly-2.12.1.min']\n",
       "            }\n",
       "        });\n",
       "        require(['plotly'], function(Plotly) {\n",
       "            window._Plotly = Plotly;\n",
       "        });\n",
       "        }\n",
       "        </script>\n",
       "        "
      ]
     },
     "metadata": {},
     "output_type": "display_data"
    }
   ],
   "source": [
    "cf.go_offline()"
   ]
  },
  {
   "cell_type": "code",
   "execution_count": 18,
   "metadata": {},
   "outputs": [],
   "source": [
    "#creating a data frame\n",
    "df1=pd.DataFrame(np.random.randn(100,4),columns=['a','b','c','d'])"
   ]
  },
  {
   "cell_type": "code",
   "execution_count": 19,
   "metadata": {},
   "outputs": [
    {
     "data": {
      "text/html": [
       "<div>\n",
       "<style scoped>\n",
       "    .dataframe tbody tr th:only-of-type {\n",
       "        vertical-align: middle;\n",
       "    }\n",
       "\n",
       "    .dataframe tbody tr th {\n",
       "        vertical-align: top;\n",
       "    }\n",
       "\n",
       "    .dataframe thead th {\n",
       "        text-align: right;\n",
       "    }\n",
       "</style>\n",
       "<table border=\"1\" class=\"dataframe\">\n",
       "  <thead>\n",
       "    <tr style=\"text-align: right;\">\n",
       "      <th></th>\n",
       "      <th>a</th>\n",
       "      <th>b</th>\n",
       "      <th>c</th>\n",
       "      <th>d</th>\n",
       "    </tr>\n",
       "  </thead>\n",
       "  <tbody>\n",
       "    <tr>\n",
       "      <th>0</th>\n",
       "      <td>-0.062352</td>\n",
       "      <td>1.345803</td>\n",
       "      <td>1.720792</td>\n",
       "      <td>-0.923676</td>\n",
       "    </tr>\n",
       "    <tr>\n",
       "      <th>1</th>\n",
       "      <td>-0.881716</td>\n",
       "      <td>-0.409504</td>\n",
       "      <td>0.129470</td>\n",
       "      <td>0.134275</td>\n",
       "    </tr>\n",
       "    <tr>\n",
       "      <th>2</th>\n",
       "      <td>0.746317</td>\n",
       "      <td>-0.426741</td>\n",
       "      <td>1.682300</td>\n",
       "      <td>-1.026987</td>\n",
       "    </tr>\n",
       "    <tr>\n",
       "      <th>3</th>\n",
       "      <td>-1.899052</td>\n",
       "      <td>-0.565609</td>\n",
       "      <td>-0.156036</td>\n",
       "      <td>-0.166290</td>\n",
       "    </tr>\n",
       "    <tr>\n",
       "      <th>4</th>\n",
       "      <td>-3.337351</td>\n",
       "      <td>0.123677</td>\n",
       "      <td>1.265651</td>\n",
       "      <td>-2.512694</td>\n",
       "    </tr>\n",
       "    <tr>\n",
       "      <th>...</th>\n",
       "      <td>...</td>\n",
       "      <td>...</td>\n",
       "      <td>...</td>\n",
       "      <td>...</td>\n",
       "    </tr>\n",
       "    <tr>\n",
       "      <th>95</th>\n",
       "      <td>-0.017707</td>\n",
       "      <td>0.748774</td>\n",
       "      <td>1.490184</td>\n",
       "      <td>0.199923</td>\n",
       "    </tr>\n",
       "    <tr>\n",
       "      <th>96</th>\n",
       "      <td>1.806773</td>\n",
       "      <td>-0.991967</td>\n",
       "      <td>-0.825539</td>\n",
       "      <td>0.094016</td>\n",
       "    </tr>\n",
       "    <tr>\n",
       "      <th>97</th>\n",
       "      <td>-0.076622</td>\n",
       "      <td>-2.071516</td>\n",
       "      <td>-0.074882</td>\n",
       "      <td>0.539784</td>\n",
       "    </tr>\n",
       "    <tr>\n",
       "      <th>98</th>\n",
       "      <td>1.013709</td>\n",
       "      <td>0.796450</td>\n",
       "      <td>0.270682</td>\n",
       "      <td>0.042594</td>\n",
       "    </tr>\n",
       "    <tr>\n",
       "      <th>99</th>\n",
       "      <td>0.096725</td>\n",
       "      <td>0.559737</td>\n",
       "      <td>0.746270</td>\n",
       "      <td>-2.152063</td>\n",
       "    </tr>\n",
       "  </tbody>\n",
       "</table>\n",
       "<p>100 rows × 4 columns</p>\n",
       "</div>"
      ],
      "text/plain": [
       "           a         b         c         d\n",
       "0  -0.062352  1.345803  1.720792 -0.923676\n",
       "1  -0.881716 -0.409504  0.129470  0.134275\n",
       "2   0.746317 -0.426741  1.682300 -1.026987\n",
       "3  -1.899052 -0.565609 -0.156036 -0.166290\n",
       "4  -3.337351  0.123677  1.265651 -2.512694\n",
       "..       ...       ...       ...       ...\n",
       "95 -0.017707  0.748774  1.490184  0.199923\n",
       "96  1.806773 -0.991967 -0.825539  0.094016\n",
       "97 -0.076622 -2.071516 -0.074882  0.539784\n",
       "98  1.013709  0.796450  0.270682  0.042594\n",
       "99  0.096725  0.559737  0.746270 -2.152063\n",
       "\n",
       "[100 rows x 4 columns]"
      ]
     },
     "execution_count": 19,
     "metadata": {},
     "output_type": "execute_result"
    }
   ],
   "source": [
    "df1"
   ]
  },
  {
   "cell_type": "code",
   "execution_count": 20,
   "metadata": {},
   "outputs": [],
   "source": [
    "df2=pd.DataFrame({'cat':['a','b','c'],\n",
    "                  'values':[32,43,50]})"
   ]
  },
  {
   "cell_type": "code",
   "execution_count": 21,
   "metadata": {},
   "outputs": [
    {
     "data": {
      "text/html": [
       "<div>\n",
       "<style scoped>\n",
       "    .dataframe tbody tr th:only-of-type {\n",
       "        vertical-align: middle;\n",
       "    }\n",
       "\n",
       "    .dataframe tbody tr th {\n",
       "        vertical-align: top;\n",
       "    }\n",
       "\n",
       "    .dataframe thead th {\n",
       "        text-align: right;\n",
       "    }\n",
       "</style>\n",
       "<table border=\"1\" class=\"dataframe\">\n",
       "  <thead>\n",
       "    <tr style=\"text-align: right;\">\n",
       "      <th></th>\n",
       "      <th>cat</th>\n",
       "      <th>values</th>\n",
       "    </tr>\n",
       "  </thead>\n",
       "  <tbody>\n",
       "    <tr>\n",
       "      <th>0</th>\n",
       "      <td>a</td>\n",
       "      <td>32</td>\n",
       "    </tr>\n",
       "    <tr>\n",
       "      <th>1</th>\n",
       "      <td>b</td>\n",
       "      <td>43</td>\n",
       "    </tr>\n",
       "    <tr>\n",
       "      <th>2</th>\n",
       "      <td>c</td>\n",
       "      <td>50</td>\n",
       "    </tr>\n",
       "  </tbody>\n",
       "</table>\n",
       "</div>"
      ],
      "text/plain": [
       "  cat  values\n",
       "0   a      32\n",
       "1   b      43\n",
       "2   c      50"
      ]
     },
     "execution_count": 21,
     "metadata": {},
     "output_type": "execute_result"
    }
   ],
   "source": [
    "df2"
   ]
  },
  {
   "cell_type": "code",
   "execution_count": 22,
   "metadata": {},
   "outputs": [
    {
     "data": {
      "text/plain": [
       "<Axes: >"
      ]
     },
     "execution_count": 22,
     "metadata": {},
     "output_type": "execute_result"
    },
    {
     "data": {
      "image/png": "[encoded data removed]",
      "text/plain": [
       "<Figure size 640x480 with 1 Axes>"
      ]
     },
     "metadata": {},
     "output_type": "display_data"
    }
   ],
   "source": [
    "#testing normal plot vs iplot\n",
    "#normal plot\n",
    "df1.plot()"
   ]
  },
  {
   "cell_type": "code",
   "execution_count": 23,
   "metadata": {},
   "outputs": [
    {
     "data": {
      "application/vnd.plotly.v1+json": {
       "config": {
        "linkText": "Export to plot.ly",
        "plotlyServerURL": "https://plot.ly",
        "showLink": true
       },
       "data": [
        {
         "line": {
          "color": "rgba(255, 153, 51, 1.0)",
          "dash": "solid",
          "shape": "linear",
          "width": 1.3
         },
         "mode": "lines",
         "name": "a",
         "text": "",
         "type": "scatter",
         "x": [
          0,
          1,
          2,
          3,
          4,
          5,
          6,
          7,
          8,
          9,
          10,
          11,
          12,
          13,
          14,
          15,
          16,
          17,
          18,
          19,
          20,
          21,
          22,
          23,
          24,
          25,
          26,
          27,
          28,
          29,
          30,
          31,
          32,
          33,
          34,
          35,
          36,
          37,
          38,
          39,
          40,
          41,
          42,
          43,
          44,
          45,
          46,
          47,
          48,
          49,
          50,
          51,
          52,
          53,
          54,
          55,
          56,
          57,
          58,
          59,
          60,
          61,
          62,
          63,
          64,
          65,
          66,
          67,
          68,
          69,
          70,
          71,
          72,
          73,
          74,
          75,
          76,
          77,
          78,
          79,
          80,
          81,
          82,
          83,
          84,
          85,
          86,
          87,
          88,
          89,
          90,
          91,
          92,
          93,
          94,
          95,
          96,
          97,
          98,
          99
         ],
         "y": [
          -0.062351925781139905,
          -0.8817161240457048,
          0.7463169669547585,
          -1.8990520072046657,
          -3.337351449406041,
          0.9223774544129417,
          1.1744250661685558,
          -1.0446523758004358,
          0.1217497789038736,
          -0.2805167582265966,
          -0.24769619231346549,
          0.19426955893353487,
          1.044208795974513,
          0.019377483874681647,
          -1.2835321051339146,
          -1.340575717799042,
          -0.6172542684987723,
          -1.2574766718330568,
          -0.03482614697848915,
          0.03473689407563682,
          -1.390754613785778,
          -0.24156977580530092,
          -0.042734125803991004,
          -0.4432069975885784,
          -0.15317416914423312,
          0.07888984710499282,
          1.4806246050148815,
          1.2086033849152484,
          1.1467927352074734,
          -1.3393720712843273,
          -0.1521729903911927,
          0.9035140642360183,
          0.09282357002029788,
          -0.3739586042706795,
          0.47136842424790276,
          -0.6181431513829541,
          -0.48270004028137187,
          0.06008502541203112,
          -0.5280765061505249,
          -1.0790829060239204,
          -0.2000913760656969,
          0.40027641743738956,
          1.228409637022475,
          -0.7433603501166698,
          1.4029423734514954,
          -0.43601918629437453,
          -0.21481562422360934,
          0.8325874879566068,
          -1.008478944816114,
          -0.2698433436146194,
          -0.2415669279545765,
          -0.5189818883908638,
          -0.5678442602668005,
          0.34804613947736607,
          1.2089762717931483,
          -0.4474460332160931,
          -0.2540554755641693,
          0.5176590899088768,
          1.166536231917122,
          -0.4956826849549834,
          0.24103466377337984,
          -0.5564902537016657,
          0.49040057808349996,
          0.42490404731529186,
          -0.6564953942676944,
          -1.1016240786010247,
          2.1610976060997285,
          1.4497599389146651,
          0.9446327620734706,
          0.20911855797240864,
          0.4868103135374091,
          1.2031966852895017,
          0.3333736111452282,
          0.366774667259113,
          0.11812603413623969,
          1.9448209567028978,
          -1.1300945186119562,
          -0.9836523274391905,
          0.07149203208771868,
          -0.4593774980739697,
          -0.4336575215121513,
          0.25695072325805196,
          -0.003104135523013458,
          -0.6615456378550143,
          0.09632531110480767,
          -0.9257951291030592,
          -1.382022828898304,
          -0.3905671434683307,
          1.113929628500759,
          -0.8016740428400086,
          -1.418929556524137,
          2.357324957069805,
          0.09424583552248238,
          0.34226880484225386,
          0.9419065676811078,
          -0.01770681621554834,
          1.8067727463826015,
          -0.07662198591859472,
          1.0137089757350333,
          0.09672452652179386
         ]
        },
        {
         "line": {
          "color": "rgba(55, 128, 191, 1.0)",
          "dash": "solid",
          "shape": "linear",
          "width": 1.3
         },
         "mode": "lines",
         "name": "b",
         "text": "",
         "type": "scatter",
         "x": [
          0,
          1,
          2,
          3,
          4,
          5,
          6,
          7,
          8,
          9,
          10,
          11,
          12,
          13,
          14,
          15,
          16,
          17,
          18,
          19,
          20,
          21,
          22,
          23,
          24,
          25,
          26,
          27,
          28,
          29,
          30,
          31,
          32,
          33,
          34,
          35,
          36,
          37,
          38,
          39,
          40,
          41,
          42,
          43,
          44,
          45,
          46,
          47,
          48,
          49,
          50,
          51,
          52,
          53,
          54,
          55,
          56,
          57,
          58,
          59,
          60,
          61,
          62,
          63,
          64,
          65,
          66,
          67,
          68,
          69,
          70,
          71,
          72,
          73,
          74,
          75,
          76,
          77,
          78,
          79,
          80,
          81,
          82,
          83,
          84,
          85,
          86,
          87,
          88,
          89,
          90,
          91,
          92,
          93,
          94,
          95,
          96,
          97,
          98,
          99
         ],
         "y": [
          1.3458031903723395,
          -0.40950402040259315,
          -0.42674127609365126,
          -0.5656087812401089,
          0.12367745926335183,
          0.01850277105118758,
          0.30609394751073654,
          0.32801930127311035,
          0.22927454764961527,
          -0.4198212043887026,
          0.5676691111008856,
          1.4720021562687735,
          0.19050588562899337,
          -0.8929093514814036,
          0.4634807632472989,
          0.036710872365854165,
          0.8540960516448594,
          -0.2264011522749301,
          0.13748679461219307,
          0.38128238747669135,
          -0.4144596902622239,
          -0.41549884171075213,
          0.915909182699893,
          0.6469289956589318,
          -0.2632518058075842,
          -0.2805887651135262,
          0.8282945181620801,
          0.7027429695720918,
          -0.3677221685330779,
          -0.7688674106515071,
          0.5805598603177164,
          0.4048492151546898,
          -0.10060828187787481,
          -0.006894949415682576,
          1.2215109185064077,
          -0.9847697022068548,
          -0.36594060034746106,
          -1.4838278137079177,
          0.2053747391037887,
          -0.9429579396902869,
          -0.4211761464487458,
          -0.18262545376502798,
          0.4553776152626256,
          0.2771091550516436,
          0.8582944618409603,
          -0.29751761559272943,
          -0.6566031967405837,
          1.7720465377289194,
          -0.2929716649560564,
          -1.1984680943300228,
          -0.2884978007123995,
          1.5044428878231748,
          0.7760721679544956,
          -0.3598678501466956,
          0.8496818880965404,
          -0.3575874944276014,
          -2.1105956262933185,
          -0.22293278258552937,
          2.5234421288702276,
          1.054345027543189,
          0.54835140785844,
          0.19929243669935245,
          0.5298503149980242,
          1.1823312344508856,
          -0.9630497915581725,
          0.6079681926462375,
          0.29785829589847357,
          -1.3614619365017047,
          -1.4492635696152092,
          -0.15010824648687707,
          0.8995358556944685,
          0.8755162422486137,
          1.3962805670528482,
          -0.768593023104367,
          -0.8863680300900008,
          -0.7320469837813888,
          -0.03182055975753945,
          -0.9552298645697848,
          -1.2706381673219436,
          0.31060809348240254,
          0.04012428773115946,
          -0.018398803689632617,
          0.4893352291841691,
          0.7154766520959042,
          0.37493858726531204,
          -0.13402117785670964,
          -1.5093450956226644,
          0.09690061131036148,
          2.011266104141,
          -0.7480335670031292,
          0.4295000122302325,
          1.5600142777287516,
          2.0470783393699987,
          -0.374936658791511,
          -1.593626509180037,
          0.7487743187257173,
          -0.9919674802862463,
          -2.0715162510230583,
          0.7964501714614347,
          0.5597368038290075
         ]
        },
        {
         "line": {
          "color": "rgba(50, 171, 96, 1.0)",
          "dash": "solid",
          "shape": "linear",
          "width": 1.3
         },
         "mode": "lines",
         "name": "c",
         "text": "",
         "type": "scatter",
         "x": [
          0,
          1,
          2,
          3,
          4,
          5,
          6,
          7,
          8,
          9,
          10,
          11,
          12,
          13,
          14,
          15,
          16,
          17,
          18,
          19,
          20,
          21,
          22,
          23,
          24,
          25,
          26,
          27,
          28,
          29,
          30,
          31,
          32,
          33,
          34,
          35,
          36,
          37,
          38,
          39,
          40,
          41,
          42,
          43,
          44,
          45,
          46,
          47,
          48,
          49,
          50,
          51,
          52,
          53,
          54,
          55,
          56,
          57,
          58,
          59,
          60,
          61,
          62,
          63,
          64,
          65,
          66,
          67,
          68,
          69,
          70,
          71,
          72,
          73,
          74,
          75,
          76,
          77,
          78,
          79,
          80,
          81,
          82,
          83,
          84,
          85,
          86,
          87,
          88,
          89,
          90,
          91,
          92,
          93,
          94,
          95,
          96,
          97,
          98,
          99
         ],
         "y": [
          1.7207916790823221,
          0.12947014341687194,
          1.682299881993001,
          -0.1560364719425046,
          1.2656512784731433,
          0.28188384702057445,
          -0.16471719998833506,
          -0.12758242818122326,
          0.06233556949481188,
          0.5099067007697689,
          -1.2973229806118023,
          1.0258111005486676,
          1.1519196954773472,
          -0.785962487932892,
          -1.6174955949396974,
          0.4851947991222935,
          -0.17012422958481288,
          -0.8468501031157701,
          0.6193131177564248,
          -0.18258542979071138,
          0.2804320937238808,
          -1.5406116643463583,
          -0.6602490725380961,
          0.25353272595503695,
          -0.8056135613445471,
          -1.0570280982996154,
          -2.0815188140660252,
          0.13909918377559247,
          -1.8677941161385108,
          -2.0294316179902037,
          -0.7432646820828379,
          -0.07185862630505314,
          2.339389743048336,
          -0.31085942172213854,
          0.89227815811166,
          -1.01084117509436,
          0.9765327057460238,
          -0.44771012228725804,
          -0.4089013088417133,
          -0.47307312589845546,
          -0.06504572666878372,
          -0.9483049263438084,
          -1.2930788101363642,
          -0.17053269058583484,
          0.28256911302838145,
          0.652540098559326,
          -0.46248088992551706,
          1.2949183567271452,
          1.8108764547596474,
          -0.11565293563638626,
          0.16093146898816793,
          -1.1074646587258892,
          0.2886602866076221,
          -0.26916695194448015,
          -0.6818078424359588,
          0.9328976800380196,
          -0.7984749414739535,
          1.2171541990461852,
          -2.2869764117642197,
          0.49071363393812173,
          -0.4215730415511358,
          -0.5532995949163206,
          -1.0097016400361918,
          0.3755967679255243,
          -0.979704732739269,
          0.6489075398704354,
          0.15384136919499344,
          0.39249412303620346,
          1.6907036204332342,
          0.07202989078281806,
          1.865760302421559,
          0.3578036751830545,
          -0.9189602769381526,
          -2.5637136687488122,
          0.6381410235676694,
          1.4974029565505915,
          -0.9452023627346365,
          -0.3062100107595342,
          -0.967595483594749,
          -0.2648481982624562,
          -0.6265065223207998,
          0.19607478484789226,
          1.4581189851271046,
          -0.15886643490114594,
          -3.1171513373998665,
          1.1435856781613718,
          -0.31979938096274924,
          0.8683498742407431,
          -0.03345684615739199,
          0.2585380673931338,
          -0.7902573521640915,
          -1.251011768708483,
          -0.4997390544909956,
          1.529298121384452,
          1.4678129395174062,
          1.4901842371795888,
          -0.8255391068078819,
          -0.0748823391308551,
          0.27068213540241176,
          0.746269671991404
         ]
        },
        {
         "line": {
          "color": "rgba(128, 0, 128, 1.0)",
          "dash": "solid",
          "shape": "linear",
          "width": 1.3
         },
         "mode": "lines",
         "name": "d",
         "text": "",
         "type": "scatter",
         "x": [
          0,
          1,
          2,
          3,
          4,
          5,
          6,
          7,
          8,
          9,
          10,
          11,
          12,
          13,
          14,
          15,
          16,
          17,
          18,
          19,
          20,
          21,
          22,
          23,
          24,
          25,
          26,
          27,
          28,
          29,
          30,
          31,
          32,
          33,
          34,
          35,
          36,
          37,
          38,
          39,
          40,
          41,
          42,
          43,
          44,
          45,
          46,
          47,
          48,
          49,
          50,
          51,
          52,
          53,
          54,
          55,
          56,
          57,
          58,
          59,
          60,
          61,
          62,
          63,
          64,
          65,
          66,
          67,
          68,
          69,
          70,
          71,
          72,
          73,
          74,
          75,
          76,
          77,
          78,
          79,
          80,
          81,
          82,
          83,
          84,
          85,
          86,
          87,
          88,
          89,
          90,
          91,
          92,
          93,
          94,
          95,
          96,
          97,
          98,
          99
         ],
         "y": [
          -0.9236755815589306,
          0.13427527698652783,
          -1.0269867532597345,
          -0.16628961427748745,
          -2.512694356990011,
          1.351205280733091,
          0.22058977984924297,
          -0.503003961884836,
          1.065069503352817,
          1.128622169535414,
          0.5582629692965889,
          -0.1786293312171848,
          -1.042775317566608,
          0.5586051102179951,
          -0.7268182979496992,
          0.006481678099785951,
          -1.2775613151953384,
          -1.544829328539969,
          -1.57228361299338,
          -0.2691678838468397,
          -1.906958016947033,
          -0.022445368262361612,
          -0.18322809083740865,
          -0.09997579941537339,
          -1.1542418787398514,
          -1.2279130779134935,
          1.2110935170428585,
          -0.37836621436068474,
          -0.6518081437183333,
          -0.34802074110481385,
          1.6923761561343436,
          -0.3470438328067252,
          0.4157574064633272,
          0.6907477818390749,
          -0.8117233336455391,
          -0.23683317749281402,
          -0.15605453338831857,
          -0.8079008229759034,
          0.47843142608717204,
          0.019584298074046023,
          1.8201881441249377,
          0.6314559774799214,
          -0.026370869098524683,
          -0.3705720058896731,
          -1.6768039865555786,
          0.06541521056373062,
          -1.331443239502694,
          1.9616674511427334,
          -0.3667993623904148,
          0.7313107823799722,
          -0.33331056726005326,
          -0.3267540787533368,
          1.2652153579882164,
          -0.23075431411444206,
          -0.6958733661178488,
          2.5081615556453642,
          -0.6370212758576085,
          -1.1963527111641037,
          -0.4739218474317233,
          -0.4985832020014819,
          0.3465961725394065,
          -0.7434065861710253,
          1.2455107970515054,
          0.022642640539138385,
          -0.6734860771644449,
          1.4281762086999992,
          1.2752200905808233,
          -1.0653776571954128,
          0.0807090972132146,
          0.638529984898294,
          -0.03935447123844699,
          -0.7334806216458913,
          0.6635133888346542,
          -0.5406848843016027,
          0.3880207679925182,
          -1.183791432025294,
          0.5778517482642657,
          -0.9800944889051203,
          -0.28925405560750217,
          1.1401079502453662,
          1.3009359004527958,
          -0.22037849688536815,
          -0.040617335402728716,
          -0.8290555167600038,
          0.08030537948943701,
          2.1331179036159815,
          -1.012450875002035,
          -0.49516347292952656,
          -0.9928613378149328,
          0.638977581606836,
          1.0085371783999002,
          -0.005318445918818509,
          -0.9407336800473955,
          0.7835315769923064,
          -0.5003243235828946,
          0.19992315032512867,
          0.09401558750013951,
          0.5397838963515995,
          0.042594396729072684,
          -2.1520628281821517
         ]
        }
       ],
       "layout": {
        "legend": {
         "bgcolor": "#F5F6F9",
         "font": {
          "color": "#4D5663"
         }
        },
        "paper_bgcolor": "#F5F6F9",
        "plot_bgcolor": "#F5F6F9",
        "template": {
         "data": {
          "bar": [
           {
            "error_x": {
             "color": "#2a3f5f"
            },
            "error_y": {
             "color": "#2a3f5f"
            },
            "marker": {
             "line": {
              "color": "#E5ECF6",
              "width": 0.5
             },
             "pattern": {
              "fillmode": "overlay",
              "size": 10,
              "solidity": 0.2
             }
            },
            "type": "bar"
           }
          ],
          "barpolar": [
           {
            "marker": {
             "line": {
              "color": "#E5ECF6",
              "width": 0.5
             },
             "pattern": {
              "fillmode": "overlay",
              "size": 10,
              "solidity": 0.2
             }
            },
            "type": "barpolar"
           }
          ],
          "carpet": [
           {
            "aaxis": {
             "endlinecolor": "#2a3f5f",
             "gridcolor": "white",
             "linecolor": "white",
             "minorgridcolor": "white",
             "startlinecolor": "#2a3f5f"
            },
            "baxis": {
             "endlinecolor": "#2a3f5f",
             "gridcolor": "white",
             "linecolor": "white",
             "minorgridcolor": "white",
             "startlinecolor": "#2a3f5f"
            },
            "type": "carpet"
           }
          ],
          "choropleth": [
           {
            "colorbar": {
             "outlinewidth": 0,
             "ticks": ""
            },
            "type": "choropleth"
           }
          ],
          "contour": [
           {
            "colorbar": {
             "outlinewidth": 0,
             "ticks": ""
            },
            "colorscale": [
             [
              0,
              "#0d0887"
             ],
             [
              0.1111111111111111,
              "#46039f"
             ],
             [
              0.2222222222222222,
              "#7201a8"
             ],
             [
              0.3333333333333333,
              "#9c179e"
             ],
             [
              0.4444444444444444,
              "#bd3786"
             ],
             [
              0.5555555555555556,
              "#d8576b"
             ],
             [
              0.6666666666666666,
              "#ed7953"
             ],
             [
              0.7777777777777778,
              "#fb9f3a"
             ],
             [
              0.8888888888888888,
              "#fdca26"
             ],
             [
              1,
              "#f0f921"
             ]
            ],
            "type": "contour"
           }
          ],
          "contourcarpet": [
           {
            "colorbar": {
             "outlinewidth": 0,
             "ticks": ""
            },
            "type": "contourcarpet"
           }
          ],
          "heatmap": [
           {
            "colorbar": {
             "outlinewidth": 0,
             "ticks": ""
            },
            "colorscale": [
             [
              0,
              "#0d0887"
             ],
             [
              0.1111111111111111,
              "#46039f"
             ],
             [
              0.2222222222222222,
              "#7201a8"
             ],
             [
              0.3333333333333333,
              "#9c179e"
             ],
             [
              0.4444444444444444,
              "#bd3786"
             ],
             [
              0.5555555555555556,
              "#d8576b"
             ],
             [
              0.6666666666666666,
              "#ed7953"
             ],
             [
              0.7777777777777778,
              "#fb9f3a"
             ],
             [
              0.8888888888888888,
              "#fdca26"
             ],
             [
              1,
              "#f0f921"
             ]
            ],
            "type": "heatmap"
           }
          ],
          "heatmapgl": [
           {
            "colorbar": {
             "outlinewidth": 0,
             "ticks": ""
            },
            "colorscale": [
             [
              0,
              "#0d0887"
             ],
             [
              0.1111111111111111,
              "#46039f"
             ],
             [
              0.2222222222222222,
              "#7201a8"
             ],
             [
              0.3333333333333333,
              "#9c179e"
             ],
             [
              0.4444444444444444,
              "#bd3786"
             ],
             [
              0.5555555555555556,
              "#d8576b"
             ],
             [
              0.6666666666666666,
              "#ed7953"
             ],
             [
              0.7777777777777778,
              "#fb9f3a"
             ],
             [
              0.8888888888888888,
              "#fdca26"
             ],
             [
              1,
              "#f0f921"
             ]
            ],
            "type": "heatmapgl"
           }
          ],
          "histogram": [
           {
            "marker": {
             "pattern": {
              "fillmode": "overlay",
              "size": 10,
              "solidity": 0.2
             }
            },
            "type": "histogram"
           }
          ],
          "histogram2d": [
           {
            "colorbar": {
             "outlinewidth": 0,
             "ticks": ""
            },
            "colorscale": [
             [
              0,
              "#0d0887"
             ],
             [
              0.1111111111111111,
              "#46039f"
             ],
             [
              0.2222222222222222,
              "#7201a8"
             ],
             [
              0.3333333333333333,
              "#9c179e"
             ],
             [
              0.4444444444444444,
              "#bd3786"
             ],
             [
              0.5555555555555556,
              "#d8576b"
             ],
             [
              0.6666666666666666,
              "#ed7953"
             ],
             [
              0.7777777777777778,
              "#fb9f3a"
             ],
             [
              0.8888888888888888,
              "#fdca26"
             ],
             [
              1,
              "#f0f921"
             ]
            ],
            "type": "histogram2d"
           }
          ],
          "histogram2dcontour": [
           {
            "colorbar": {
             "outlinewidth": 0,
             "ticks": ""
            },
            "colorscale": [
             [
              0,
              "#0d0887"
             ],
             [
              0.1111111111111111,
              "#46039f"
             ],
             [
              0.2222222222222222,
              "#7201a8"
             ],
             [
              0.3333333333333333,
              "#9c179e"
             ],
             [
              0.4444444444444444,
              "#bd3786"
             ],
             [
              0.5555555555555556,
              "#d8576b"
             ],
             [
              0.6666666666666666,
              "#ed7953"
             ],
             [
              0.7777777777777778,
              "#fb9f3a"
             ],
             [
              0.8888888888888888,
              "#fdca26"
             ],
             [
              1,
              "#f0f921"
             ]
            ],
            "type": "histogram2dcontour"
           }
          ],
          "mesh3d": [
           {
            "colorbar": {
             "outlinewidth": 0,
             "ticks": ""
            },
            "type": "mesh3d"
           }
          ],
          "parcoords": [
           {
            "line": {
             "colorbar": {
              "outlinewidth": 0,
              "ticks": ""
             }
            },
            "type": "parcoords"
           }
          ],
          "pie": [
           {
            "automargin": true,
            "type": "pie"
           }
          ],
          "scatter": [
           {
            "fillpattern": {
             "fillmode": "overlay",
             "size": 10,
             "solidity": 0.2
            },
            "type": "scatter"
           }
          ],
          "scatter3d": [
           {
            "line": {
             "colorbar": {
              "outlinewidth": 0,
              "ticks": ""
             }
            },
            "marker": {
             "colorbar": {
              "outlinewidth": 0,
              "ticks": ""
             }
            },
            "type": "scatter3d"
           }
          ],
          "scattercarpet": [
           {
            "marker": {
             "colorbar": {
              "outlinewidth": 0,
              "ticks": ""
             }
            },
            "type": "scattercarpet"
           }
          ],
          "scattergeo": [
           {
            "marker": {
             "colorbar": {
              "outlinewidth": 0,
              "ticks": ""
             }
            },
            "type": "scattergeo"
           }
          ],
          "scattergl": [
           {
            "marker": {
             "colorbar": {
              "outlinewidth": 0,
              "ticks": ""
             }
            },
            "type": "scattergl"
           }
          ],
          "scattermapbox": [
           {
            "marker": {
             "colorbar": {
              "outlinewidth": 0,
              "ticks": ""
             }
            },
            "type": "scattermapbox"
           }
          ],
          "scatterpolar": [
           {
            "marker": {
             "colorbar": {
              "outlinewidth": 0,
              "ticks": ""
             }
            },
            "type": "scatterpolar"
           }
          ],
          "scatterpolargl": [
           {
            "marker": {
             "colorbar": {
              "outlinewidth": 0,
              "ticks": ""
             }
            },
            "type": "scatterpolargl"
           }
          ],
          "scatterternary": [
           {
            "marker": {
             "colorbar": {
              "outlinewidth": 0,
              "ticks": ""
             }
            },
            "type": "scatterternary"
           }
          ],
          "surface": [
           {
            "colorbar": {
             "outlinewidth": 0,
             "ticks": ""
            },
            "colorscale": [
             [
              0,
              "#0d0887"
             ],
             [
              0.1111111111111111,
              "#46039f"
             ],
             [
              0.2222222222222222,
              "#7201a8"
             ],
             [
              0.3333333333333333,
              "#9c179e"
             ],
             [
              0.4444444444444444,
              "#bd3786"
             ],
             [
              0.5555555555555556,
              "#d8576b"
             ],
             [
              0.6666666666666666,
              "#ed7953"
             ],
             [
              0.7777777777777778,
              "#fb9f3a"
             ],
             [
              0.8888888888888888,
              "#fdca26"
             ],
             [
              1,
              "#f0f921"
             ]
            ],
            "type": "surface"
           }
          ],
          "table": [
           {
            "cells": {
             "fill": {
              "color": "#EBF0F8"
             },
             "line": {
              "color": "white"
             }
            },
            "header": {
             "fill": {
              "color": "#C8D4E3"
             },
             "line": {
              "color": "white"
             }
            },
            "type": "table"
           }
          ]
         },
         "layout": {
          "annotationdefaults": {
           "arrowcolor": "#2a3f5f",
           "arrowhead": 0,
           "arrowwidth": 1
          },
          "autotypenumbers": "strict",
          "coloraxis": {
           "colorbar": {
            "outlinewidth": 0,
            "ticks": ""
           }
          },
          "colorscale": {
           "diverging": [
            [
             0,
             "#8e0152"
            ],
            [
             0.1,
             "#c51b7d"
            ],
            [
             0.2,
             "#de77ae"
            ],
            [
             0.3,
             "#f1b6da"
            ],
            [
             0.4,
             "#fde0ef"
            ],
            [
             0.5,
             "#f7f7f7"
            ],
            [
             0.6,
             "#e6f5d0"
            ],
            [
             0.7,
             "#b8e186"
            ],
            [
             0.8,
             "#7fbc41"
            ],
            [
             0.9,
             "#4d9221"
            ],
            [
             1,
             "#276419"
            ]
           ],
           "sequential": [
            [
             0,
             "#0d0887"
            ],
            [
             0.1111111111111111,
             "#46039f"
            ],
            [
             0.2222222222222222,
             "#7201a8"
            ],
            [
             0.3333333333333333,
             "#9c179e"
            ],
            [
             0.4444444444444444,
             "#bd3786"
            ],
            [
             0.5555555555555556,
             "#d8576b"
            ],
            [
             0.6666666666666666,
             "#ed7953"
            ],
            [
             0.7777777777777778,
             "#fb9f3a"
            ],
            [
             0.8888888888888888,
             "#fdca26"
            ],
            [
             1,
             "#f0f921"
            ]
           ],
           "sequentialminus": [
            [
             0,
             "#0d0887"
            ],
            [
             0.1111111111111111,
             "#46039f"
            ],
            [
             0.2222222222222222,
             "#7201a8"
            ],
            [
             0.3333333333333333,
             "#9c179e"
            ],
            [
             0.4444444444444444,
             "#bd3786"
            ],
            [
             0.5555555555555556,
             "#d8576b"
            ],
            [
             0.6666666666666666,
             "#ed7953"
            ],
            [
             0.7777777777777778,
             "#fb9f3a"
            ],
            [
             0.8888888888888888,
             "#fdca26"
            ],
            [
             1,
             "#f0f921"
            ]
           ]
          },
          "colorway": [
           "#636efa",
           "#EF553B",
           "#00cc96",
           "#ab63fa",
           "#FFA15A",
           "#19d3f3",
           "#FF6692",
           "#B6E880",
           "#FF97FF",
           "#FECB52"
          ],
          "font": {
           "color": "#2a3f5f"
          },
          "geo": {
           "bgcolor": "white",
           "lakecolor": "white",
           "landcolor": "#E5ECF6",
           "showlakes": true,
           "showland": true,
           "subunitcolor": "white"
          },
          "hoverlabel": {
           "align": "left"
          },
          "hovermode": "closest",
          "mapbox": {
           "style": "light"
          },
          "paper_bgcolor": "white",
          "plot_bgcolor": "#E5ECF6",
          "polar": {
           "angularaxis": {
            "gridcolor": "white",
            "linecolor": "white",
            "ticks": ""
           },
           "bgcolor": "#E5ECF6",
           "radialaxis": {
            "gridcolor": "white",
            "linecolor": "white",
            "ticks": ""
           }
          },
          "scene": {
           "xaxis": {
            "backgroundcolor": "#E5ECF6",
            "gridcolor": "white",
            "gridwidth": 2,
            "linecolor": "white",
            "showbackground": true,
            "ticks": "",
            "zerolinecolor": "white"
           },
           "yaxis": {
            "backgroundcolor": "#E5ECF6",
            "gridcolor": "white",
            "gridwidth": 2,
            "linecolor": "white",
            "showbackground": true,
            "ticks": "",
            "zerolinecolor": "white"
           },
           "zaxis": {
            "backgroundcolor": "#E5ECF6",
            "gridcolor": "white",
            "gridwidth": 2,
            "linecolor": "white",
            "showbackground": true,
            "ticks": "",
            "zerolinecolor": "white"
           }
          },
          "shapedefaults": {
           "line": {
            "color": "#2a3f5f"
           }
          },
          "ternary": {
           "aaxis": {
            "gridcolor": "white",
            "linecolor": "white",
            "ticks": ""
           },
           "baxis": {
            "gridcolor": "white",
            "linecolor": "white",
            "ticks": ""
           },
           "bgcolor": "#E5ECF6",
           "caxis": {
            "gridcolor": "white",
            "linecolor": "white",
            "ticks": ""
           }
          },
          "title": {
           "x": 0.05
          },
          "xaxis": {
           "automargin": true,
           "gridcolor": "white",
           "linecolor": "white",
           "ticks": "",
           "title": {
            "standoff": 15
           },
           "zerolinecolor": "white",
           "zerolinewidth": 2
          },
          "yaxis": {
           "automargin": true,
           "gridcolor": "white",
           "linecolor": "white",
           "ticks": "",
           "title": {
            "standoff": 15
           },
           "zerolinecolor": "white",
           "zerolinewidth": 2
          }
         }
        },
        "title": {
         "font": {
          "color": "#4D5663"
         }
        },
        "xaxis": {
         "gridcolor": "#E1E5ED",
         "showgrid": true,
         "tickfont": {
          "color": "#4D5663"
         },
         "title": {
          "font": {
           "color": "#4D5663"
          },
          "text": ""
         },
         "zerolinecolor": "#E1E5ED"
        },
        "yaxis": {
         "gridcolor": "#E1E5ED",
         "showgrid": true,
         "tickfont": {
          "color": "#4D5663"
         },
         "title": {
          "font": {
           "color": "#4D5663"
          },
          "text": ""
         },
         "zerolinecolor": "#E1E5ED"
        }
       }
      },
      "text/html": [
       "<div>                            <div id=\"b6c2f375-0ed2-4008-b71b-39f831c09bfe\" class=\"plotly-graph-div\" style=\"height:525px; width:100%;\"></div>            <script type=\"text/javascript\">                require([\"plotly\"], function(Plotly) {                    window.PLOTLYENV=window.PLOTLYENV || {};\n",
       "                    window.PLOTLYENV.BASE_URL='https://plot.ly';                                    if (document.getElementById(\"b6c2f375-0ed2-4008-b71b-39f831c09bfe\")) {                    Plotly.newPlot(                        \"b6c2f375-0ed2-4008-b71b-39f831c09bfe\",                        [{\"line\":{\"color\":\"rgba(255, 153, 51, 1.0)\",\"dash\":\"solid\",\"shape\":\"linear\",\"width\":1.3},\"mode\":\"lines\",\"name\":\"a\",\"text\":\"\",\"x\":[0,1,2,3,4,5,6,7,8,9,10,11,12,13,14,15,16,17,18,19,20,21,22,23,24,25,26,27,28,29,30,31,32,33,34,35,36,37,38,39,40,41,42,43,44,45,46,47,48,49,50,51,52,53,54,55,56,57,58,59,60,61,62,63,64,65,66,67,68,69,70,71,72,73,74,75,76,77,78,79,80,81,82,83,84,85,86,87,88,89,90,91,92,93,94,95,96,97,98,99],\"y\":[-0.062351925781139905,-0.8817161240457048,0.7463169669547585,-1.8990520072046657,-3.337351449406041,0.9223774544129417,1.1744250661685558,-1.0446523758004358,0.1217497789038736,-0.2805167582265966,-0.24769619231346549,0.19426955893353487,1.044208795974513,0.019377483874681647,-1.2835321051339146,-1.340575717799042,-0.6172542684987723,-1.2574766718330568,-0.03482614697848915,0.03473689407563682,-1.390754613785778,-0.24156977580530092,-0.042734125803991004,-0.4432069975885784,-0.15317416914423312,0.07888984710499282,1.4806246050148815,1.2086033849152484,1.1467927352074734,-1.3393720712843273,-0.1521729903911927,0.9035140642360183,0.09282357002029788,-0.3739586042706795,0.47136842424790276,-0.6181431513829541,-0.48270004028137187,0.06008502541203112,-0.5280765061505249,-1.0790829060239204,-0.2000913760656969,0.40027641743738956,1.228409637022475,-0.7433603501166698,1.4029423734514954,-0.43601918629437453,-0.21481562422360934,0.8325874879566068,-1.008478944816114,-0.2698433436146194,-0.2415669279545765,-0.5189818883908638,-0.5678442602668005,0.34804613947736607,1.2089762717931483,-0.4474460332160931,-0.2540554755641693,0.5176590899088768,1.166536231917122,-0.4956826849549834,0.24103466377337984,-0.5564902537016657,0.49040057808349996,0.42490404731529186,-0.6564953942676944,-1.1016240786010247,2.1610976060997285,1.4497599389146651,0.9446327620734706,0.20911855797240864,0.4868103135374091,1.2031966852895017,0.3333736111452282,0.366774667259113,0.11812603413623969,1.9448209567028978,-1.1300945186119562,-0.9836523274391905,0.07149203208771868,-0.4593774980739697,-0.4336575215121513,0.25695072325805196,-0.003104135523013458,-0.6615456378550143,0.09632531110480767,-0.9257951291030592,-1.382022828898304,-0.3905671434683307,1.113929628500759,-0.8016740428400086,-1.418929556524137,2.357324957069805,0.09424583552248238,0.34226880484225386,0.9419065676811078,-0.01770681621554834,1.8067727463826015,-0.07662198591859472,1.0137089757350333,0.09672452652179386],\"type\":\"scatter\"},{\"line\":{\"color\":\"rgba(55, 128, 191, 1.0)\",\"dash\":\"solid\",\"shape\":\"linear\",\"width\":1.3},\"mode\":\"lines\",\"name\":\"b\",\"text\":\"\",\"x\":[0,1,2,3,4,5,6,7,8,9,10,11,12,13,14,15,16,17,18,19,20,21,22,23,24,25,26,27,28,29,30,31,32,33,34,35,36,37,38,39,40,41,42,43,44,45,46,47,48,49,50,51,52,53,54,55,56,57,58,59,60,61,62,63,64,65,66,67,68,69,70,71,72,73,74,75,76,77,78,79,80,81,82,83,84,85,86,87,88,89,90,91,92,93,94,95,96,97,98,99],\"y\":[1.3458031903723395,-0.40950402040259315,-0.42674127609365126,-0.5656087812401089,0.12367745926335183,0.01850277105118758,0.30609394751073654,0.32801930127311035,0.22927454764961527,-0.4198212043887026,0.5676691111008856,1.4720021562687735,0.19050588562899337,-0.8929093514814036,0.4634807632472989,0.036710872365854165,0.8540960516448594,-0.2264011522749301,0.13748679461219307,0.38128238747669135,-0.4144596902622239,-0.41549884171075213,0.915909182699893,0.6469289956589318,-0.2632518058075842,-0.2805887651135262,0.8282945181620801,0.7027429695720918,-0.3677221685330779,-0.7688674106515071,0.5805598603177164,0.4048492151546898,-0.10060828187787481,-0.006894949415682576,1.2215109185064077,-0.9847697022068548,-0.36594060034746106,-1.4838278137079177,0.2053747391037887,-0.9429579396902869,-0.4211761464487458,-0.18262545376502798,0.4553776152626256,0.2771091550516436,0.8582944618409603,-0.29751761559272943,-0.6566031967405837,1.7720465377289194,-0.2929716649560564,-1.1984680943300228,-0.2884978007123995,1.5044428878231748,0.7760721679544956,-0.3598678501466956,0.8496818880965404,-0.3575874944276014,-2.1105956262933185,-0.22293278258552937,2.5234421288702276,1.054345027543189,0.54835140785844,0.19929243669935245,0.5298503149980242,1.1823312344508856,-0.9630497915581725,0.6079681926462375,0.29785829589847357,-1.3614619365017047,-1.4492635696152092,-0.15010824648687707,0.8995358556944685,0.8755162422486137,1.3962805670528482,-0.768593023104367,-0.8863680300900008,-0.7320469837813888,-0.03182055975753945,-0.9552298645697848,-1.2706381673219436,0.31060809348240254,0.04012428773115946,-0.018398803689632617,0.4893352291841691,0.7154766520959042,0.37493858726531204,-0.13402117785670964,-1.5093450956226644,0.09690061131036148,2.011266104141,-0.7480335670031292,0.4295000122302325,1.5600142777287516,2.0470783393699987,-0.374936658791511,-1.593626509180037,0.7487743187257173,-0.9919674802862463,-2.0715162510230583,0.7964501714614347,0.5597368038290075],\"type\":\"scatter\"},{\"line\":{\"color\":\"rgba(50, 171, 96, 1.0)\",\"dash\":\"solid\",\"shape\":\"linear\",\"width\":1.3},\"mode\":\"lines\",\"name\":\"c\",\"text\":\"\",\"x\":[0,1,2,3,4,5,6,7,8,9,10,11,12,13,14,15,16,17,18,19,20,21,22,23,24,25,26,27,28,29,30,31,32,33,34,35,36,37,38,39,40,41,42,43,44,45,46,47,48,49,50,51,52,53,54,55,56,57,58,59,60,61,62,63,64,65,66,67,68,69,70,71,72,73,74,75,76,77,78,79,80,81,82,83,84,85,86,87,88,89,90,91,92,93,94,95,96,97,98,99],\"y\":[1.7207916790823221,0.12947014341687194,1.682299881993001,-0.1560364719425046,1.2656512784731433,0.28188384702057445,-0.16471719998833506,-0.12758242818122326,0.06233556949481188,0.5099067007697689,-1.2973229806118023,1.0258111005486676,1.1519196954773472,-0.785962487932892,-1.6174955949396974,0.4851947991222935,-0.17012422958481288,-0.8468501031157701,0.6193131177564248,-0.18258542979071138,0.2804320937238808,-1.5406116643463583,-0.6602490725380961,0.25353272595503695,-0.8056135613445471,-1.0570280982996154,-2.0815188140660252,0.13909918377559247,-1.8677941161385108,-2.0294316179902037,-0.7432646820828379,-0.07185862630505314,2.339389743048336,-0.31085942172213854,0.89227815811166,-1.01084117509436,0.9765327057460238,-0.44771012228725804,-0.4089013088417133,-0.47307312589845546,-0.06504572666878372,-0.9483049263438084,-1.2930788101363642,-0.17053269058583484,0.28256911302838145,0.652540098559326,-0.46248088992551706,1.2949183567271452,1.8108764547596474,-0.11565293563638626,0.16093146898816793,-1.1074646587258892,0.2886602866076221,-0.26916695194448015,-0.6818078424359588,0.9328976800380196,-0.7984749414739535,1.2171541990461852,-2.2869764117642197,0.49071363393812173,-0.4215730415511358,-0.5532995949163206,-1.0097016400361918,0.3755967679255243,-0.979704732739269,0.6489075398704354,0.15384136919499344,0.39249412303620346,1.6907036204332342,0.07202989078281806,1.865760302421559,0.3578036751830545,-0.9189602769381526,-2.5637136687488122,0.6381410235676694,1.4974029565505915,-0.9452023627346365,-0.3062100107595342,-0.967595483594749,-0.2648481982624562,-0.6265065223207998,0.19607478484789226,1.4581189851271046,-0.15886643490114594,-3.1171513373998665,1.1435856781613718,-0.31979938096274924,0.8683498742407431,-0.03345684615739199,0.2585380673931338,-0.7902573521640915,-1.251011768708483,-0.4997390544909956,1.529298121384452,1.4678129395174062,1.4901842371795888,-0.8255391068078819,-0.0748823391308551,0.27068213540241176,0.746269671991404],\"type\":\"scatter\"},{\"line\":{\"color\":\"rgba(128, 0, 128, 1.0)\",\"dash\":\"solid\",\"shape\":\"linear\",\"width\":1.3},\"mode\":\"lines\",\"name\":\"d\",\"text\":\"\",\"x\":[0,1,2,3,4,5,6,7,8,9,10,11,12,13,14,15,16,17,18,19,20,21,22,23,24,25,26,27,28,29,30,31,32,33,34,35,36,37,38,39,40,41,42,43,44,45,46,47,48,49,50,51,52,53,54,55,56,57,58,59,60,61,62,63,64,65,66,67,68,69,70,71,72,73,74,75,76,77,78,79,80,81,82,83,84,85,86,87,88,89,90,91,92,93,94,95,96,97,98,99],\"y\":[-0.9236755815589306,0.13427527698652783,-1.0269867532597345,-0.16628961427748745,-2.512694356990011,1.351205280733091,0.22058977984924297,-0.503003961884836,1.065069503352817,1.128622169535414,0.5582629692965889,-0.1786293312171848,-1.042775317566608,0.5586051102179951,-0.7268182979496992,0.006481678099785951,-1.2775613151953384,-1.544829328539969,-1.57228361299338,-0.2691678838468397,-1.906958016947033,-0.022445368262361612,-0.18322809083740865,-0.09997579941537339,-1.1542418787398514,-1.2279130779134935,1.2110935170428585,-0.37836621436068474,-0.6518081437183333,-0.34802074110481385,1.6923761561343436,-0.3470438328067252,0.4157574064633272,0.6907477818390749,-0.8117233336455391,-0.23683317749281402,-0.15605453338831857,-0.8079008229759034,0.47843142608717204,0.019584298074046023,1.8201881441249377,0.6314559774799214,-0.026370869098524683,-0.3705720058896731,-1.6768039865555786,0.06541521056373062,-1.331443239502694,1.9616674511427334,-0.3667993623904148,0.7313107823799722,-0.33331056726005326,-0.3267540787533368,1.2652153579882164,-0.23075431411444206,-0.6958733661178488,2.5081615556453642,-0.6370212758576085,-1.1963527111641037,-0.4739218474317233,-0.4985832020014819,0.3465961725394065,-0.7434065861710253,1.2455107970515054,0.022642640539138385,-0.6734860771644449,1.4281762086999992,1.2752200905808233,-1.0653776571954128,0.0807090972132146,0.638529984898294,-0.03935447123844699,-0.7334806216458913,0.6635133888346542,-0.5406848843016027,0.3880207679925182,-1.183791432025294,0.5778517482642657,-0.9800944889051203,-0.28925405560750217,1.1401079502453662,1.3009359004527958,-0.22037849688536815,-0.040617335402728716,-0.8290555167600038,0.08030537948943701,2.1331179036159815,-1.012450875002035,-0.49516347292952656,-0.9928613378149328,0.638977581606836,1.0085371783999002,-0.005318445918818509,-0.9407336800473955,0.7835315769923064,-0.5003243235828946,0.19992315032512867,0.09401558750013951,0.5397838963515995,0.042594396729072684,-2.1520628281821517],\"type\":\"scatter\"}],                        {\"legend\":{\"bgcolor\":\"#F5F6F9\",\"font\":{\"color\":\"#4D5663\"}},\"paper_bgcolor\":\"#F5F6F9\",\"plot_bgcolor\":\"#F5F6F9\",\"template\":{\"data\":{\"barpolar\":[{\"marker\":{\"line\":{\"color\":\"#E5ECF6\",\"width\":0.5},\"pattern\":{\"fillmode\":\"overlay\",\"size\":10,\"solidity\":0.2}},\"type\":\"barpolar\"}],\"bar\":[{\"error_x\":{\"color\":\"#2a3f5f\"},\"error_y\":{\"color\":\"#2a3f5f\"},\"marker\":{\"line\":{\"color\":\"#E5ECF6\",\"width\":0.5},\"pattern\":{\"fillmode\":\"overlay\",\"size\":10,\"solidity\":0.2}},\"type\":\"bar\"}],\"carpet\":[{\"aaxis\":{\"endlinecolor\":\"#2a3f5f\",\"gridcolor\":\"white\",\"linecolor\":\"white\",\"minorgridcolor\":\"white\",\"startlinecolor\":\"#2a3f5f\"},\"baxis\":{\"endlinecolor\":\"#2a3f5f\",\"gridcolor\":\"white\",\"linecolor\":\"white\",\"minorgridcolor\":\"white\",\"startlinecolor\":\"#2a3f5f\"},\"type\":\"carpet\"}],\"choropleth\":[{\"colorbar\":{\"outlinewidth\":0,\"ticks\":\"\"},\"type\":\"choropleth\"}],\"contourcarpet\":[{\"colorbar\":{\"outlinewidth\":0,\"ticks\":\"\"},\"type\":\"contourcarpet\"}],\"contour\":[{\"colorbar\":{\"outlinewidth\":0,\"ticks\":\"\"},\"colorscale\":[[0.0,\"#0d0887\"],[0.1111111111111111,\"#46039f\"],[0.2222222222222222,\"#7201a8\"],[0.3333333333333333,\"#9c179e\"],[0.4444444444444444,\"#bd3786\"],[0.5555555555555556,\"#d8576b\"],[0.6666666666666666,\"#ed7953\"],[0.7777777777777778,\"#fb9f3a\"],[0.8888888888888888,\"#fdca26\"],[1.0,\"#f0f921\"]],\"type\":\"contour\"}],\"heatmapgl\":[{\"colorbar\":{\"outlinewidth\":0,\"ticks\":\"\"},\"colorscale\":[[0.0,\"#0d0887\"],[0.1111111111111111,\"#46039f\"],[0.2222222222222222,\"#7201a8\"],[0.3333333333333333,\"#9c179e\"],[0.4444444444444444,\"#bd3786\"],[0.5555555555555556,\"#d8576b\"],[0.6666666666666666,\"#ed7953\"],[0.7777777777777778,\"#fb9f3a\"],[0.8888888888888888,\"#fdca26\"],[1.0,\"#f0f921\"]],\"type\":\"heatmapgl\"}],\"heatmap\":[{\"colorbar\":{\"outlinewidth\":0,\"ticks\":\"\"},\"colorscale\":[[0.0,\"#0d0887\"],[0.1111111111111111,\"#46039f\"],[0.2222222222222222,\"#7201a8\"],[0.3333333333333333,\"#9c179e\"],[0.4444444444444444,\"#bd3786\"],[0.5555555555555556,\"#d8576b\"],[0.6666666666666666,\"#ed7953\"],[0.7777777777777778,\"#fb9f3a\"],[0.8888888888888888,\"#fdca26\"],[1.0,\"#f0f921\"]],\"type\":\"heatmap\"}],\"histogram2dcontour\":[{\"colorbar\":{\"outlinewidth\":0,\"ticks\":\"\"},\"colorscale\":[[0.0,\"#0d0887\"],[0.1111111111111111,\"#46039f\"],[0.2222222222222222,\"#7201a8\"],[0.3333333333333333,\"#9c179e\"],[0.4444444444444444,\"#bd3786\"],[0.5555555555555556,\"#d8576b\"],[0.6666666666666666,\"#ed7953\"],[0.7777777777777778,\"#fb9f3a\"],[0.8888888888888888,\"#fdca26\"],[1.0,\"#f0f921\"]],\"type\":\"histogram2dcontour\"}],\"histogram2d\":[{\"colorbar\":{\"outlinewidth\":0,\"ticks\":\"\"},\"colorscale\":[[0.0,\"#0d0887\"],[0.1111111111111111,\"#46039f\"],[0.2222222222222222,\"#7201a8\"],[0.3333333333333333,\"#9c179e\"],[0.4444444444444444,\"#bd3786\"],[0.5555555555555556,\"#d8576b\"],[0.6666666666666666,\"#ed7953\"],[0.7777777777777778,\"#fb9f3a\"],[0.8888888888888888,\"#fdca26\"],[1.0,\"#f0f921\"]],\"type\":\"histogram2d\"}],\"histogram\":[{\"marker\":{\"pattern\":{\"fillmode\":\"overlay\",\"size\":10,\"solidity\":0.2}},\"type\":\"histogram\"}],\"mesh3d\":[{\"colorbar\":{\"outlinewidth\":0,\"ticks\":\"\"},\"type\":\"mesh3d\"}],\"parcoords\":[{\"line\":{\"colorbar\":{\"outlinewidth\":0,\"ticks\":\"\"}},\"type\":\"parcoords\"}],\"pie\":[{\"automargin\":true,\"type\":\"pie\"}],\"scatter3d\":[{\"line\":{\"colorbar\":{\"outlinewidth\":0,\"ticks\":\"\"}},\"marker\":{\"colorbar\":{\"outlinewidth\":0,\"ticks\":\"\"}},\"type\":\"scatter3d\"}],\"scattercarpet\":[{\"marker\":{\"colorbar\":{\"outlinewidth\":0,\"ticks\":\"\"}},\"type\":\"scattercarpet\"}],\"scattergeo\":[{\"marker\":{\"colorbar\":{\"outlinewidth\":0,\"ticks\":\"\"}},\"type\":\"scattergeo\"}],\"scattergl\":[{\"marker\":{\"colorbar\":{\"outlinewidth\":0,\"ticks\":\"\"}},\"type\":\"scattergl\"}],\"scattermapbox\":[{\"marker\":{\"colorbar\":{\"outlinewidth\":0,\"ticks\":\"\"}},\"type\":\"scattermapbox\"}],\"scatterpolargl\":[{\"marker\":{\"colorbar\":{\"outlinewidth\":0,\"ticks\":\"\"}},\"type\":\"scatterpolargl\"}],\"scatterpolar\":[{\"marker\":{\"colorbar\":{\"outlinewidth\":0,\"ticks\":\"\"}},\"type\":\"scatterpolar\"}],\"scatter\":[{\"fillpattern\":{\"fillmode\":\"overlay\",\"size\":10,\"solidity\":0.2},\"type\":\"scatter\"}],\"scatterternary\":[{\"marker\":{\"colorbar\":{\"outlinewidth\":0,\"ticks\":\"\"}},\"type\":\"scatterternary\"}],\"surface\":[{\"colorbar\":{\"outlinewidth\":0,\"ticks\":\"\"},\"colorscale\":[[0.0,\"#0d0887\"],[0.1111111111111111,\"#46039f\"],[0.2222222222222222,\"#7201a8\"],[0.3333333333333333,\"#9c179e\"],[0.4444444444444444,\"#bd3786\"],[0.5555555555555556,\"#d8576b\"],[0.6666666666666666,\"#ed7953\"],[0.7777777777777778,\"#fb9f3a\"],[0.8888888888888888,\"#fdca26\"],[1.0,\"#f0f921\"]],\"type\":\"surface\"}],\"table\":[{\"cells\":{\"fill\":{\"color\":\"#EBF0F8\"},\"line\":{\"color\":\"white\"}},\"header\":{\"fill\":{\"color\":\"#C8D4E3\"},\"line\":{\"color\":\"white\"}},\"type\":\"table\"}]},\"layout\":{\"annotationdefaults\":{\"arrowcolor\":\"#2a3f5f\",\"arrowhead\":0,\"arrowwidth\":1},\"autotypenumbers\":\"strict\",\"coloraxis\":{\"colorbar\":{\"outlinewidth\":0,\"ticks\":\"\"}},\"colorscale\":{\"diverging\":[[0,\"#8e0152\"],[0.1,\"#c51b7d\"],[0.2,\"#de77ae\"],[0.3,\"#f1b6da\"],[0.4,\"#fde0ef\"],[0.5,\"#f7f7f7\"],[0.6,\"#e6f5d0\"],[0.7,\"#b8e186\"],[0.8,\"#7fbc41\"],[0.9,\"#4d9221\"],[1,\"#276419\"]],\"sequential\":[[0.0,\"#0d0887\"],[0.1111111111111111,\"#46039f\"],[0.2222222222222222,\"#7201a8\"],[0.3333333333333333,\"#9c179e\"],[0.4444444444444444,\"#bd3786\"],[0.5555555555555556,\"#d8576b\"],[0.6666666666666666,\"#ed7953\"],[0.7777777777777778,\"#fb9f3a\"],[0.8888888888888888,\"#fdca26\"],[1.0,\"#f0f921\"]],\"sequentialminus\":[[0.0,\"#0d0887\"],[0.1111111111111111,\"#46039f\"],[0.2222222222222222,\"#7201a8\"],[0.3333333333333333,\"#9c179e\"],[0.4444444444444444,\"#bd3786\"],[0.5555555555555556,\"#d8576b\"],[0.6666666666666666,\"#ed7953\"],[0.7777777777777778,\"#fb9f3a\"],[0.8888888888888888,\"#fdca26\"],[1.0,\"#f0f921\"]]},\"colorway\":[\"#636efa\",\"#EF553B\",\"#00cc96\",\"#ab63fa\",\"#FFA15A\",\"#19d3f3\",\"#FF6692\",\"#B6E880\",\"#FF97FF\",\"#FECB52\"],\"font\":{\"color\":\"#2a3f5f\"},\"geo\":{\"bgcolor\":\"white\",\"lakecolor\":\"white\",\"landcolor\":\"#E5ECF6\",\"showlakes\":true,\"showland\":true,\"subunitcolor\":\"white\"},\"hoverlabel\":{\"align\":\"left\"},\"hovermode\":\"closest\",\"mapbox\":{\"style\":\"light\"},\"paper_bgcolor\":\"white\",\"plot_bgcolor\":\"#E5ECF6\",\"polar\":{\"angularaxis\":{\"gridcolor\":\"white\",\"linecolor\":\"white\",\"ticks\":\"\"},\"bgcolor\":\"#E5ECF6\",\"radialaxis\":{\"gridcolor\":\"white\",\"linecolor\":\"white\",\"ticks\":\"\"}},\"scene\":{\"xaxis\":{\"backgroundcolor\":\"#E5ECF6\",\"gridcolor\":\"white\",\"gridwidth\":2,\"linecolor\":\"white\",\"showbackground\":true,\"ticks\":\"\",\"zerolinecolor\":\"white\"},\"yaxis\":{\"backgroundcolor\":\"#E5ECF6\",\"gridcolor\":\"white\",\"gridwidth\":2,\"linecolor\":\"white\",\"showbackground\":true,\"ticks\":\"\",\"zerolinecolor\":\"white\"},\"zaxis\":{\"backgroundcolor\":\"#E5ECF6\",\"gridcolor\":\"white\",\"gridwidth\":2,\"linecolor\":\"white\",\"showbackground\":true,\"ticks\":\"\",\"zerolinecolor\":\"white\"}},\"shapedefaults\":{\"line\":{\"color\":\"#2a3f5f\"}},\"ternary\":{\"aaxis\":{\"gridcolor\":\"white\",\"linecolor\":\"white\",\"ticks\":\"\"},\"baxis\":{\"gridcolor\":\"white\",\"linecolor\":\"white\",\"ticks\":\"\"},\"bgcolor\":\"#E5ECF6\",\"caxis\":{\"gridcolor\":\"white\",\"linecolor\":\"white\",\"ticks\":\"\"}},\"title\":{\"x\":0.05},\"xaxis\":{\"automargin\":true,\"gridcolor\":\"white\",\"linecolor\":\"white\",\"ticks\":\"\",\"title\":{\"standoff\":15},\"zerolinecolor\":\"white\",\"zerolinewidth\":2},\"yaxis\":{\"automargin\":true,\"gridcolor\":\"white\",\"linecolor\":\"white\",\"ticks\":\"\",\"title\":{\"standoff\":15},\"zerolinecolor\":\"white\",\"zerolinewidth\":2}}},\"title\":{\"font\":{\"color\":\"#4D5663\"}},\"xaxis\":{\"gridcolor\":\"#E1E5ED\",\"showgrid\":true,\"tickfont\":{\"color\":\"#4D5663\"},\"title\":{\"font\":{\"color\":\"#4D5663\"},\"text\":\"\"},\"zerolinecolor\":\"#E1E5ED\"},\"yaxis\":{\"gridcolor\":\"#E1E5ED\",\"showgrid\":true,\"tickfont\":{\"color\":\"#4D5663\"},\"title\":{\"font\":{\"color\":\"#4D5663\"},\"text\":\"\"},\"zerolinecolor\":\"#E1E5ED\"}},                        {\"showLink\": true, \"linkText\": \"Export to plot.ly\", \"plotlyServerURL\": \"https://plot.ly\", \"responsive\": true}                    ).then(function(){\n",
       "                            \n",
       "var gd = document.getElementById('b6c2f375-0ed2-4008-b71b-39f831c09bfe');\n",
       "var x = new MutationObserver(function (mutations, observer) {{\n",
       "        var display = window.getComputedStyle(gd).display;\n",
       "        if (!display || display === 'none') {{\n",
       "            console.log([gd, 'removed!']);\n",
       "            Plotly.purge(gd);\n",
       "            observer.disconnect();\n",
       "        }}\n",
       "}});\n",
       "\n",
       "// Listen for the removal of the full notebook cells\n",
       "var notebookContainer = gd.closest('#notebook-container');\n",
       "if (notebookContainer) {{\n",
       "    x.observe(notebookContainer, {childList: true});\n",
       "}}\n",
       "\n",
       "// Listen for the clearing of the current output cell\n",
       "var outputEl = gd.closest('.output');\n",
       "if (outputEl) {{\n",
       "    x.observe(outputEl, {childList: true});\n",
       "}}\n",
       "\n",
       "                        })                };                });            </script>        </div>"
      ]
     },
     "metadata": {},
     "output_type": "display_data"
    }
   ],
   "source": [
    "#iplot\n",
    "df1.iplot()"
   ]
  },
  {
   "cell_type": "code",
   "execution_count": null,
   "metadata": {},
   "outputs": [],
   "source": []
  }
 ],
 "metadata": {
  "kernelspec": {
   "display_name": "base",
   "language": "python",
   "name": "python3"
  },
  "language_info": {
   "codemirror_mode": {
    "name": "ipython",
    "version": 3
   },
   "file_extension": ".py",
   "mimetype": "text/x-python",
   "name": "python",
   "nbconvert_exporter": "python",
   "pygments_lexer": "ipython3",
   "version": "3.11.7"
  }
 },
 "nbformat": 4,
 "nbformat_minor": 2
}
